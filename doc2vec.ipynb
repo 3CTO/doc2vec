{
 "metadata": {
  "name": "",
  "signature": "sha256:8c622ab1183ee5da349baf1282416cc4b87d643f5fde0dde44bfbf791ed4d2e1"
 },
 "nbformat": 3,
 "nbformat_minor": 0,
 "worksheets": [
  {
   "cells": [
    {
     "cell_type": "heading",
     "level": 1,
     "metadata": {},
     "source": [
      "Distributed Representations of Sentences and Documents"
     ]
    },
    {
     "cell_type": "heading",
     "level": 3,
     "metadata": {},
     "source": [
      "-- Quoc Le & Tomas Mikolov (2014)"
     ]
    },
    {
     "cell_type": "heading",
     "level": 4,
     "metadata": {},
     "source": [
      "Review of Le & Mikolov (2014) and introduction into Word2Vec"
     ]
    },
    {
     "cell_type": "markdown",
     "metadata": {},
     "source": [
      "---"
     ]
    },
    {
     "cell_type": "heading",
     "level": 3,
     "metadata": {},
     "source": [
      "Introduction into Word2Vec"
     ]
    },
    {
     "cell_type": "markdown",
     "metadata": {},
     "source": [
      "The last two years, the method and tool developed by Mikolov et al. (2013) for learning continuous word embeddings has gained a lot of traction. The model forms the basis for the study of Le & Mikolov (2014). In order to better understand the methods in that study, I believe it would be good to first present a brief overview of Word2vec.\n",
      "\n",
      "Word2Vec attempts to associate words with points in space. The spatial distance between words then describes the relation (similarity) between these words. Words that are spatially close, are similar. Words are represented by continuous vectors over $x$ dimensions. This example shows the relation between a number of words where each word is represented by a vector of two dimensions:"
     ]
    },
    {
     "cell_type": "code",
     "collapsed": false,
     "input": [
      "%matplotlib inline"
     ],
     "language": "python",
     "metadata": {},
     "outputs": [],
     "prompt_number": 154
    },
    {
     "cell_type": "code",
     "collapsed": false,
     "input": [
      "import seaborn as sb\n",
      "import numpy as np\n",
      "\n",
      "words = ['queen', 'book', 'king', 'magazine', 'car', 'bike']\n",
      "vectors = np.array([[0.1,   0.3],  # queen\n",
      "                    [-0.5, -0.1],  # book\n",
      "                    [0.2,   0.2],  # king\n",
      "                    [-0.3, -0.2],  # magazine\n",
      "                    [-0.5,  0.4],  # car\n",
      "                    [-0.45, 0.3]]) # bike\n",
      "\n",
      "sb.plt.plot(vectors[:,0], vectors[:,1], 'o')\n",
      "sb.plt.xlim(-0.6, 0.3)\n",
      "sb.plt.ylim(-0.3, 0.5)\n",
      "for word, x, y in zip(words, vectors[:,0], vectors[:,1]):\n",
      "    sb.plt.annotate(word, (x, y), size=12)"
     ],
     "language": "python",
     "metadata": {},
     "outputs": [
      {
       "metadata": {},
       "output_type": "display_data",
       "png": "[encoded data removed]",
       "text": [
        "<matplotlib.figure.Figure at 0x116ac91d0>"
       ]
      }
     ],
     "prompt_number": 155
    },
    {
     "cell_type": "markdown",
     "metadata": {},
     "source": [
      "The displacement vector (the vector between two vectors) describes the relation between two words. This makes it possible to compare displacement vectors to find pairs of words that have a similar relation to each other. A famous example given in the original paper is the following analogy relation: `queen : king :: woman : man` which should be read as `queen` relates to `king` in the same way as `woman` relates to `man`. In algebraic formulation: $v_{queen} - v_{king} = v_{woman} - v_{man}$. This technique of analogical reasoning can be applied to e.g. question answering. \n",
      "\n",
      "Word2Vec learns continuous word embeddings from plain text. But how? The model assumes the *Distributional Hypothesis* that words are characterized by words they hang out with. We can use that idea to estimate the probability of two words occurring near each other, e.g. what is the probability of the following words, given *Cinderella*, i.e $P(w|\\textrm{Cinderella})$?"
     ]
    },
    {
     "cell_type": "code",
     "collapsed": false,
     "input": [
      "import pandas as pd\n",
      "\n",
      "s = pd.Series([0.1, 0.4, 0.01, 0.2, 0.05], \n",
      "              index=[\"pumpkin\", \"shoe\", \"tree\", \"prince\", \"luck\"])\n",
      "s.plot(kind='bar')\n",
      "sb.plt.ylabel(\"$P(w|Cinderella)$\")"
     ],
     "language": "python",
     "metadata": {},
     "outputs": [
      {
       "metadata": {},
       "output_type": "pyout",
       "prompt_number": 156,
       "text": [
        "<matplotlib.text.Text at 0x1167e0e10>"
       ]
      },
      {
       "metadata": {},
       "output_type": "display_data",
       "png": "[encoded data removed]",
       "text": [
        "<matplotlib.figure.Figure at 0x116ab5d50>"
       ]
      }
     ],
     "prompt_number": 156
    },
    {
     "cell_type": "heading",
     "level": 4,
     "metadata": {},
     "source": [
      "Softmax Regression"
     ]
    },
    {
     "cell_type": "markdown",
     "metadata": {},
     "source": [
      "Word2Vec is a very simple neural network with a single hidden layer. Have a look at the following picture. We'll get into more details in a moment. ![](neural-network.png)\n",
      "\n",
      "The model considers each word $w_o$ in turn along with a given context $C$ (e.g. $w_O$=*Cinderella* and $C$=*shoe*). Now given this context, can we predict what $w_O$ should be? This is essentially a multiclass classification where we have as many labels as our vocabulary size $V$. Using softmax regression, we can compute a probability distribution $\\hat{y}$ over the labels. The model attempts to minimize via Stochastic Gradient Descent the difference between the output distribution and the target distribution (which is a one-hot distribution which places all probability mass on the correct word). The difference between the two distribution is measured by the cross-entropy.\n",
      "\n",
      "The neural network contains two matrics: $W$ and $W'$ of dimensions $V \\times N$ and $N \\times V$ respectively, where $V$ is the vocabulary size and $N$ the number of dimensions. Let's make this all a little more concrete with a small example. Say we have a corpus containing the following documents:"
     ]
    },
    {
     "cell_type": "code",
     "collapsed": false,
     "input": [
      "sentences = ['the king loves the queen', 'the queen loves the king',\n",
      "             'the dwarf hates the king', 'the queen hates the dwarf',\n",
      "             'the dwarf poisons the king', 'the dwarf poisons the queen']"
     ],
     "language": "python",
     "metadata": {},
     "outputs": [],
     "prompt_number": 157
    },
    {
     "cell_type": "markdown",
     "metadata": {},
     "source": [
      "We first transform these documents into bag-of-indices to enable easier computation:"
     ]
    },
    {
     "cell_type": "code",
     "collapsed": false,
     "input": [
      "from collections import defaultdict\n",
      "\n",
      "def Vocabulary():\n",
      "    dictionary = defaultdict()\n",
      "    dictionary.default_factory = lambda: len(dictionary)\n",
      "    return dictionary\n",
      "\n",
      "def docs2bow(docs, dictionary):\n",
      "    \"\"\"Transforms a list of strings into a list of lists where \n",
      "    each unique item is converted into a unique integer.\"\"\"\n",
      "    for doc in docs:\n",
      "        yield [dictionary[word] for word in doc.split()]"
     ],
     "language": "python",
     "metadata": {},
     "outputs": [],
     "prompt_number": 158
    },
    {
     "cell_type": "code",
     "collapsed": false,
     "input": [
      "vocabulary = Vocabulary()\n",
      "sentences_bow = list(docs2bow(sentences, vocabulary))\n",
      "sentences_bow"
     ],
     "language": "python",
     "metadata": {},
     "outputs": [
      {
       "metadata": {},
       "output_type": "pyout",
       "prompt_number": 159,
       "text": [
        "[[0, 1, 2, 0, 3],\n",
        " [0, 3, 2, 0, 1],\n",
        " [0, 4, 5, 0, 1],\n",
        " [0, 3, 5, 0, 4],\n",
        " [0, 4, 6, 0, 1],\n",
        " [0, 4, 6, 0, 3]]"
       ]
      }
     ],
     "prompt_number": 159
    },
    {
     "cell_type": "markdown",
     "metadata": {},
     "source": [
      "We now construct the two matrices $W$ and $W'$:"
     ]
    },
    {
     "cell_type": "code",
     "collapsed": false,
     "input": [
      "import numpy as np\n",
      "\n",
      "V, N = len(vocabulary), 3\n",
      "WI = (np.random.random((V, N)) - 0.5) / N\n",
      "WO = (np.random.random((N, V)) - 0.5) / N"
     ],
     "language": "python",
     "metadata": {},
     "outputs": [],
     "prompt_number": 160
    },
    {
     "cell_type": "markdown",
     "metadata": {},
     "source": [
      "Each row $i$ in $W$ corresponds to word $i$ and each column $j$ corresponds to the $j$th dimension."
     ]
    },
    {
     "cell_type": "code",
     "collapsed": false,
     "input": [
      "print WI"
     ],
     "language": "python",
     "metadata": {},
     "outputs": [
      {
       "output_type": "stream",
       "stream": "stdout",
       "text": [
        "[[-0.03789834 -0.10772182  0.11245175]\n",
        " [ 0.05237712 -0.07745102  0.12273925]\n",
        " [ 0.1278496  -0.12284684  0.0566915 ]\n",
        " [-0.11829547 -0.0228431  -0.1604485 ]\n",
        " [ 0.11618563  0.03962774  0.07236523]\n",
        " [-0.04114987  0.01397143  0.15666534]\n",
        " [ 0.12515041  0.06518505  0.13422248]]\n"
       ]
      }
     ],
     "prompt_number": 161
    },
    {
     "cell_type": "markdown",
     "metadata": {},
     "source": [
      "Notice that $W'$ isn't simply the transpose of $W$ but a different matrix:"
     ]
    },
    {
     "cell_type": "code",
     "collapsed": false,
     "input": [
      "print WO"
     ],
     "language": "python",
     "metadata": {},
     "outputs": [
      {
       "output_type": "stream",
       "stream": "stdout",
       "text": [
        "[[-0.15438931  0.12267756  0.09730702 -0.103595   -0.08933351  0.14192437\n",
        "   0.15589986]\n",
        " [-0.00685591 -0.05041228  0.03501403 -0.09188592  0.0416556   0.00658779\n",
        "   0.05915288]\n",
        " [-0.13495465  0.13789283 -0.12034358 -0.14275786  0.08150817  0.10775225\n",
        "  -0.16548049]]\n"
       ]
      }
     ],
     "prompt_number": 162
    },
    {
     "cell_type": "markdown",
     "metadata": {},
     "source": [
      "With the two matrices in place we continue with computing the posterior probability of an output word given some input word. Given an input word $w_I$, e.g. *dwarf* and its corresponding vector $W_I$, what is the probability that the output word $w_O$ is *hates*? Using the dot product $W_I \\cdot W'^T_O$ we compute the distance between the input word *dwarf* and the output word *hates*:"
     ]
    },
    {
     "cell_type": "code",
     "collapsed": false,
     "input": [
      "print np.dot(WI[vocabulary['dwarf']], WO.T[vocabulary['hates']])"
     ],
     "language": "python",
     "metadata": {},
     "outputs": [
      {
       "output_type": "stream",
       "stream": "stdout",
       "text": [
        "0.0245481481399\n"
       ]
      }
     ],
     "prompt_number": 163
    },
    {
     "cell_type": "markdown",
     "metadata": {},
     "source": [
      "Now using softmax regression, we can compute the posterior probability $P(w_O|w_I)$:\n",
      "\n",
      "$$ P(w_O|w_I) = y_i = \\frac{exp(W_I \\cdot W'^T_O)}{\\sum^V_{j=1} exp(W_I \\cdot W'^T_j)} $$"
     ]
    },
    {
     "cell_type": "code",
     "collapsed": false,
     "input": [
      "p_hates_dwarf = np.exp(np.dot(WI[vocabulary['dwarf']], WO.T[vocabulary['hates']]) / \n",
      "                       sum(np.exp(np.dot(WI[vocabulary['dwarf']], WO.T[vocabulary[w]])) \n",
      "                           for w in vocabulary))\n",
      "print p_hates_dwarf"
     ],
     "language": "python",
     "metadata": {},
     "outputs": [
      {
       "output_type": "stream",
       "stream": "stdout",
       "text": [
        "1.00351114567\n"
       ]
      }
     ],
     "prompt_number": 164
    },
    {
     "cell_type": "heading",
     "level": 4,
     "metadata": {},
     "source": [
      "Updating the hidden-to-output layer weights"
     ]
    },
    {
     "cell_type": "markdown",
     "metadata": {},
     "source": [
      "Word2Vec attempts to associate words with points in space. These points in space are represented by the continuous embeddings of the words. All vectors are initialized as random points in space, so we need to *learn* better positions. The model does so by maximizing the equation above. The corresponding loss function which we try to minimize is $E = -\\log P(w_O|w_I)$. First, let's focus on how to update the hidden-to-output layer weights. Say the target output word is *Cinderella*. Given the aformentioned one-hot target distribution $t$, the error can be computed as $t_j - y_j = e_j$, where $t_j$ is 1 iff $w_j$ is the actual output word. So, the actual output word is *Cinderella* and we compute the posterior probability of P(*pumpkin* | *tree*), the error will be 0 - P(*pumpkin* | *tree*), because *pumpkin* isn't the actual ouput word. \n",
      "\n",
      "To obtain the gradient on the hidden-to-output weights, we compute $e_j \\cdot h_i$, where $h_i$ is a copy of the vector corresponding to the input word (only holds with a context of a single word). Finally, using stochastic gradient descent, with a learning rate $\\nu$ we obtain the weight update equation for the hidden to output layer weights:\n",
      "\n",
      "$$W'^{T (t)}_j = W'^{T (t-1)}_j - \\nu \\cdot e_j \\cdot h_j$$.\n",
      "\n",
      "Assume the target word is *king* and the context or input word $C$ is *queen*. Given this input word we compute for each word in the vocabulary the posterior probability P(word | *queen*). If the word is our target word, the error will be 1 - P(word | *queen*); otherwise 0 - P(word | *queen*). Finally, using stocastic gradient descent we update the hidden-to-output layer weights:"
     ]
    },
    {
     "cell_type": "code",
     "collapsed": false,
     "input": [
      "target_word = 'king'\n",
      "input_word = 'queen'\n",
      "learning_rate = 1.0\n",
      "\n",
      "for word in vocabulary:\n",
      "    p_word_queen = np.exp(np.dot(WO.T[vocabulary[word]], WI[vocabulary[input_word]]) / \n",
      "                      sum(np.exp(np.dot(WO.T[vocabulary[w]], WI[vocabulary[input_word]])) \n",
      "                          for w in vocabulary))\n",
      "    t = 1 if word == target_word else 0\n",
      "    error = t - p_word_queen\n",
      "    WO.T[vocabulary[word]] = (WO.T[vocabulary[word]] - learning_rate * \n",
      "                              error * WI[vocabulary[input_word]])\n",
      "print WO"
     ],
     "language": "python",
     "metadata": {},
     "outputs": [
      {
       "output_type": "stream",
       "stream": "stdout",
       "text": [
        "[[-0.27334621  0.12327396 -0.02110437 -0.2225163  -0.20757066  0.0241876\n",
        "   0.03749181]\n",
        " [-0.02982673 -0.05029711  0.01214855 -0.11484987  0.01882376 -0.01614743\n",
        "   0.03628804]\n",
        " [-0.29630027  0.13870176 -0.28094929 -0.30405519 -0.07886123 -0.05193846\n",
        "  -0.32608167]]\n"
       ]
      }
     ],
     "prompt_number": 165
    },
    {
     "cell_type": "heading",
     "level": 4,
     "metadata": {},
     "source": [
      "Updating the input-to-hidden layer weights"
     ]
    },
    {
     "cell_type": "markdown",
     "metadata": {},
     "source": [
      "Now that we have a way to update the hidden-to-output layer weights, we concentrate on updating the input-to-hidden layer weights. We need to backpropagate the prediction errors to the input-to-hidden weights. We first compute $EH$ which is an $N$ dimensional vector representing the sum of the hidden-to-output vectors for each word in the vocabulary weighted by their prediction error:\n",
      "\n",
      "$$\\sum^V_{j=1} e_j \\cdot W'_{i,j} = {EH}_i$$\n",
      "\n",
      "Again using the learning rate $\\nu$ we update the weights using:\n",
      "\n",
      "$$W^{(t)}_{w_I} = W^{(t-1)}_{w_I} - \\nu \\cdot EH$$\n",
      "\n",
      "Let's see how that works in Python:"
     ]
    },
    {
     "cell_type": "code",
     "collapsed": false,
     "input": [
      "WI[vocabulary[input_word]] = WI[vocabulary[input_word]] - learning_rate * WO.sum(1)"
     ],
     "language": "python",
     "metadata": {},
     "outputs": [],
     "prompt_number": 166
    },
    {
     "cell_type": "markdown",
     "metadata": {},
     "source": [
      "If we now would recompute the probability of each word given the input word *queen*, we see that the probability of *king* given *queen* has gone up:"
     ]
    },
    {
     "cell_type": "code",
     "collapsed": false,
     "input": [
      "for word in vocabulary:\n",
      "    p = np.exp(np.dot(WO.T[vocabulary[word]], WI[vocabulary[input_word]]) / \n",
      "               sum(np.exp(np.dot(WO.T[vocabulary[w]], WI[vocabulary[input_word]])) \n",
      "                   for w in vocabulary))\n",
      "    print word, p"
     ],
     "language": "python",
     "metadata": {},
     "outputs": [
      {
       "output_type": "stream",
       "stream": "stdout",
       "text": [
        "king 1.03337360586\n",
        "dwarf 0.97153383846\n",
        "queen 0.929415518058\n",
        "poisons 0.946424997858\n",
        "loves 0.949584795566\n",
        "the 0.928923011715\n",
        "hates 0.992128227933\n"
       ]
      }
     ],
     "prompt_number": 167
    },
    {
     "cell_type": "heading",
     "level": 4,
     "metadata": {},
     "source": [
      "Multi-word context"
     ]
    },
    {
     "cell_type": "markdown",
     "metadata": {},
     "source": [
      "![](neural-network-cbow.png)"
     ]
    },
    {
     "cell_type": "markdown",
     "metadata": {},
     "source": [
      "The model described above is the CBOW architecture of Word2Vec. However, we assumed that the context $C$ was only a single input word. This allowed us to simply copy the input vector to the hidden layer. If the context $C$ comprises multiple words, instead of copying the input vector we take the mean of their input vectors as our hidden layer:\n",
      "\n",
      "$$h = \\frac{1}{C} (W_1 + W_2 + \\ldots + W_C)$$\n",
      "\n",
      "The update functions remain the same except that for the update of the input vectors, we need to apply the update to each word in the contect $C$:\n",
      "\n",
      "$$W^{(t)}_{w_I} = W^{(t-1)}_{w_I} - \\frac{1}{C} \\cdot \\nu \\cdot EH$$\n",
      "\n",
      "Let's see that in action. Again assume the target word is *king*. The context consists of two words: *queen* and *loves*."
     ]
    },
    {
     "cell_type": "code",
     "collapsed": false,
     "input": [
      "target_word = 'king'\n",
      "context = ['queen', 'loves']"
     ],
     "language": "python",
     "metadata": {},
     "outputs": [],
     "prompt_number": 168
    },
    {
     "cell_type": "markdown",
     "metadata": {},
     "source": [
      "We first take the average of the two context vectors:"
     ]
    },
    {
     "cell_type": "code",
     "collapsed": false,
     "input": [
      "h = (WI[vocabulary['queen']] + WI[vocabulary['loves']]) / 2"
     ],
     "language": "python",
     "metadata": {},
     "outputs": [],
     "prompt_number": 169
    },
    {
     "cell_type": "markdown",
     "metadata": {},
     "source": [
      "Then we apply the hidden-to-output layer update:"
     ]
    },
    {
     "cell_type": "code",
     "collapsed": false,
     "input": [
      "for word in vocabulary:\n",
      "    p_word_context = np.exp(np.dot(WO.T[vocabulary[word]], h) / \n",
      "                            sum(np.exp(np.dot(WO.T[vocabulary[w]], h)) for w in vocabulary))\n",
      "    t = 1 if word == target_word else 0\n",
      "    error = t - p_word_context\n",
      "    WO.T[vocabulary[word]] = WO.T[vocabulary[word]] - learning_rate * error * h\n",
      "print WO"
     ],
     "language": "python",
     "metadata": {},
     "outputs": [
      {
       "output_type": "stream",
       "stream": "stdout",
       "text": [
        "[[-0.00701147  0.12811905  0.24761473  0.04287503  0.06265806  0.29802258\n",
        "   0.30557364]\n",
        " [-0.03071388 -0.05031325  0.01125346 -0.11573387  0.01792364 -0.01705956\n",
        "   0.03539507]\n",
        " [ 0.23513282  0.14836944  0.25524144  0.22549547  0.46034176  0.49446031\n",
        "   0.20883749]]\n"
       ]
      }
     ],
     "prompt_number": 170
    },
    {
     "cell_type": "markdown",
     "metadata": {},
     "source": [
      "Finally we update the vector of each input word in the context:"
     ]
    },
    {
     "cell_type": "code",
     "collapsed": false,
     "input": [
      "for input_word in context:\n",
      "    WI[vocabulary[input_word]] = (WI[vocabulary[input_word]] - (1. / len(context)) * \n",
      "                                  learning_rate * WO.sum(1))"
     ],
     "language": "python",
     "metadata": {},
     "outputs": [],
     "prompt_number": 171
    },
    {
     "cell_type": "code",
     "collapsed": false,
     "input": [
      "h = (WI[vocabulary['queen']] + WI[vocabulary['loves']]) / 2\n",
      "for word in vocabulary:\n",
      "    p = np.exp(np.dot(WO.T[vocabulary[word]], h) / \n",
      "               sum(np.exp(np.dot(WO.T[vocabulary[w]], h)) for w in vocabulary))\n",
      "    print word, p"
     ],
     "language": "python",
     "metadata": {},
     "outputs": [
      {
       "output_type": "stream",
       "stream": "stdout",
       "text": [
        "king 0.982001066363\n",
        "dwarf 0.961648502403\n",
        "queen 0.978958645042\n",
        "poisons 0.970574524161\n",
        "loves 0.969239978528\n",
        "the 0.981454589144\n",
        "hates 0.948532048812\n"
       ]
      }
     ],
     "prompt_number": 172
    },
    {
     "cell_type": "heading",
     "level": 3,
     "metadata": {},
     "source": [
      "Paragraph Vector"
     ]
    },
    {
     "cell_type": "markdown",
     "metadata": {},
     "source": [
      "Hopefully we know have a better understanding of how Word2Vec learns continuous word embeddings from texts. Note that in order to efficiently apply this algorithm to real texts, we need some more tricks which I won't cover here. For now I would like to proceed with the Paragraph Vector described in Le & Mikolov (2014). \n",
      "\n",
      "The Paragraph Vector model attempts to learn fixed-length continuous representations from variable-length pieces of text. These representations combine bag-of-words features with word semantics and can be used in all kinds of NLP applications.\n",
      "\n",
      "If you read the paper, I think it will be clear by now that the Paragraph Vector is only a very small extension of the original model. Similar to the Word2Vec model, the Paragraph Vector model also attemts to predict the next word in a sentence. The only real difference, as the paper itself states, is with the computation of $h$. Where in the original model $h$ is based solely on $W$, in the new model we add another matrix called $D$, representing the vectors of paragraphs:\n",
      "\n",
      "![](doc2vec.png)\n",
      "\n",
      "A paragraph token can be thought of as yet another word token except that (at least in the paper) all paragraph vectors are unique, whereas word tokens share their vector representations among different contexts. At each step we compute $h$ by concatenating or averaging a paragraph vector $d$ with a context of word vectors $C$:\n",
      "\n",
      "$$ h = \\frac{1}{C} \\cdot (D_d + W_1 + W_W + \\ldots + W_C)$$\n",
      "\n",
      "The weight update functions are the same as in Word2Vec except that we now also update the paragraph vectors. This first model is called the Distributed Memory Model of Paragraph Vectors. Le & Mikolov present another model called Distributed Bag of Words Model of Paragraph Vector. This model ignores the context $C$ and attempts to predict a randomly sampled word from a randomly sampled context window. \n",
      "\n",
      "Let's have a more detailed look at the DM Model. In addition to the matrix $W$ we need to randomly initialize a matric $D$ with dimensions $P \\times N$ where $P$ is the number of paragraphs or whatever textual unit we use, and $N$ is the number of dimensions."
     ]
    },
    {
     "cell_type": "code",
     "collapsed": false,
     "input": [
      "V, N, P = len(vocabulary), 3, 5\n",
      "WI = (np.random.random((V, N)) - 0.5) / N\n",
      "WO = (np.random.random((N, V)) - 0.5) / N\n",
      "D =  (np.random.random((P, N)) - 0.5) / N"
     ],
     "language": "python",
     "metadata": {},
     "outputs": [],
     "prompt_number": 178
    },
    {
     "cell_type": "markdown",
     "metadata": {},
     "source": [
      "Say out corpus consists of the following five sentences (paragraphs):"
     ]
    },
    {
     "cell_type": "code",
     "collapsed": false,
     "input": [
      "sentences = ['snowboarding is dangerous', 'skydiving is dangerous',\n",
      "             'escargots are tasty to some people', 'everyone loves tasty food',\n",
      "             'the minister has some dangerous ideas']"
     ],
     "language": "python",
     "metadata": {},
     "outputs": [],
     "prompt_number": 174
    },
    {
     "cell_type": "markdown",
     "metadata": {},
     "source": [
      "We first convert the sentences into a vectorial BOW representation:"
     ]
    },
    {
     "cell_type": "code",
     "collapsed": false,
     "input": [
      "vocabulary = Vocabulary()\n",
      "sentences_bow = list(docs2bow(sentences, vocabulary))\n",
      "sentences_bow"
     ],
     "language": "python",
     "metadata": {},
     "outputs": [
      {
       "metadata": {},
       "output_type": "pyout",
       "prompt_number": 175,
       "text": [
        "[[0, 1, 2],\n",
        " [3, 1, 2],\n",
        " [4, 5, 6, 7, 8, 9],\n",
        " [10, 11, 6, 12],\n",
        " [13, 14, 15, 8, 2, 16]]"
       ]
      }
     ],
     "prompt_number": 175
    },
    {
     "cell_type": "markdown",
     "metadata": {},
     "source": [
      "Next we compute the posterior probability for each word in the vocabulary given the concatenation and averaging of the first paragraph and the context word *snowboarding*. We compute the error and update the hidden-to-output layer weights."
     ]
    },
    {
     "cell_type": "code",
     "collapsed": false,
     "input": [
      "target_word = 'dangerous'\n",
      "h = (D[0] + WI[vocabulary['snowboarding']]) / 2\n",
      "learning_rate = 1.0\n",
      "\n",
      "for word in vocabulary:\n",
      "    p_word_queen = np.exp(np.dot(WO.T[vocabulary[word]], h) / \n",
      "                      sum(np.exp(np.dot(WO.T[vocabulary[w]], h)) for w in vocabulary))\n",
      "    t = 1 if word == target_word else 0\n",
      "    error = t - p_word_queen\n",
      "    WO.T[vocabulary[word]] = (WO.T[vocabulary[word]] - learning_rate * error * h)\n",
      "print WO"
     ],
     "language": "python",
     "metadata": {},
     "outputs": [
      {
       "output_type": "stream",
       "stream": "stdout",
       "text": [
        "[[-0.07653999 -0.16899184 -0.05954325 -0.06200252 -0.0590481  -0.11767076\n",
        "  -0.16962376 -0.17873845 -0.20423863 -0.13593868 -0.12150821  0.0381429\n",
        "  -0.0274548  -0.14517363 -0.02475864  0.02816307 -0.08252763]\n",
        " [ 0.0886481  -0.07538301  0.08510518  0.16683519  0.19617616  0.1305278\n",
        "   0.07231209  0.14124262  0.05603712  0.06304936 -0.11013949 -0.03612577\n",
        "  -0.06434695  0.16503564  0.1883107   0.14582856  0.20439005]\n",
        " [-0.13967858  0.08862552  0.09523917  0.11774556 -0.07970058 -0.15063074\n",
        "  -0.00624741  0.0061931   0.11195333  0.00879177 -0.00504909  0.04610335\n",
        "  -0.07746088  0.04255663  0.1424887  -0.09806443  0.00628268]]\n"
       ]
      }
     ],
     "prompt_number": 179
    },
    {
     "cell_type": "markdown",
     "metadata": {},
     "source": [
      "We backpropagate the error to the input-to-hidden layer as follows:"
     ]
    },
    {
     "cell_type": "code",
     "collapsed": false,
     "input": [
      "EH = WO.sum(1)\n",
      "WI[vocabulary['snowboarding']] = WI[vocabulary['snowboarding']] - 0.5 * learning_rate * EH\n",
      "D[0] = D[0] - 0.5 * learning_rate * EH"
     ],
     "language": "python",
     "metadata": {},
     "outputs": [],
     "prompt_number": 180
    },
    {
     "cell_type": "heading",
     "level": 3,
     "metadata": {},
     "source": [
      "Experiments"
     ]
    },
    {
     "cell_type": "markdown",
     "metadata": {},
     "source": [
      "Le & Mikolov evaluate and investigate the performance of the paragraph vectors on a number of different tasks. I will briefly discuss them here."
     ]
    },
    {
     "cell_type": "heading",
     "level": 4,
     "metadata": {},
     "source": [
      "Sentiment Analysis"
     ]
    },
    {
     "cell_type": "markdown",
     "metadata": {},
     "source": [
      "In the first experiment, the authors address the task of sentiment analysis. They make use of the Stanford Sentiment Treebank Dataset which is a manually annotated data set containing 11855 sentences taken from the movie review site Rotten Tomatoes. Each sentence in the data set has been assigned a label on a scale of negative to positive. The task is to predict these labels. \n",
      "\n",
      "Le & Mikolov train Paragraph Vectors using both the DM Model and the DBOW model. These two representations are concatenated for each training instance and fed to a Logistic Regression classifier that makes a prediction for each unseen test sentence. They compare the performance of the model to a number of different models:\n",
      "\n",
      "![](results-1.png)\n",
      "\n",
      "Le & Mikolov then move on beyond the sentence level and evaluate their model on the IMDB data set. Training and testings follows the same procedure as before. The results presented below suggest a strong improvement compared to the other reported models:\n",
      "\n",
      "![](results-2.png)"
     ]
    },
    {
     "cell_type": "heading",
     "level": 4,
     "metadata": {},
     "source": [
      "Information Retrieval"
     ]
    },
    {
     "cell_type": "markdown",
     "metadata": {},
     "source": [
      "The authors then turn to an experiment in Information Retrieval. They develop a task in which the goal is to predict which of three paragraphs isn't the result of the same query. They construct a data set on the basis of the search results of a search engine. For each query they create a triplet of paragraphs: two paragraphs are results from the same query and one is randomly sampled from the rest of the collection (result from a different query). The pairwise distances between each member of a triplet, should then reflect which two results belong to the same query and which snippet is the outlier. The following table shows quite convincingly how well the paragraph vectors are able to perform on this task compared to the other methods:\n",
      "\n",
      "![](results-3.png)"
     ]
    },
    {
     "cell_type": "heading",
     "level": 3,
     "metadata": {},
     "source": [
      "Comments / Points of critique"
     ]
    },
    {
     "cell_type": "heading",
     "level": 4,
     "metadata": {},
     "source": [
      "General remarks"
     ]
    },
    {
     "cell_type": "markdown",
     "metadata": {},
     "source": [
      "Although the proposed model is only a small step beyond the original word2vec model (and some of the writings is quite sloppy), I think it is a really clever one with much potential for many different applications. The ease with which the model can be applied to text pieces of variable length is perhaps the strongest advantage of the model. "
     ]
    },
    {
     "cell_type": "heading",
     "level": 4,
     "metadata": {},
     "source": [
      "Availability of code / experimentation details"
     ]
    },
    {
     "cell_type": "markdown",
     "metadata": {},
     "source": [
      "No implementation was available (even not to the second author, which led to some serious doubts about the reproducability of the results:\n",
      "\n",
      "![](response-mikolov.png)\n",
      "\n",
      "After a nice series of discussion, the first author finally made a suggestion on how to improve the results and actually come to the same performance as reported in the paper:\n",
      "\n",
      "![](quoc-response.png)\n",
      "\n",
      "It is applaudable for the authors to interact and respond to comments by the readers. On the other hand, if they would have developed an implementation similar to the original word2vec, this discussion (and the resulting doubts in the method) wouldn't have to take place. The authors report a number of hyperparameters in the paper, such as the window size and the number of dimensions of the vectors. However, some crucial parameters weren't mentioned (such as the use of hierarchical softmax verus negative sampling). Again, in order to reproduce the results, the authors must specify in much greater detail how they performed the experiments."
     ]
    },
    {
     "cell_type": "code",
     "collapsed": false,
     "input": [],
     "language": "python",
     "metadata": {},
     "outputs": []
    },
    {
     "cell_type": "markdown",
     "metadata": {},
     "source": [
      "---"
     ]
    },
    {
     "cell_type": "code",
     "collapsed": false,
     "input": [
      "from IPython.core.display import HTML\n",
      "def css_styling():\n",
      "    styles = open(\"custom.css\", \"r\").read()\n",
      "    return HTML(styles)\n",
      "css_styling()"
     ],
     "language": "python",
     "metadata": {},
     "outputs": [
      {
       "html": [
        "/*\n",
        "Placeholder for custom user CSS\n",
        "\n",
        "mainly to be overridden in profile/static/custom/custom.css\n",
        "\n",
        "This will always be an empty file in IPython\n",
        "*/\n",
        "<style>\n",
        "    @import url(http://fonts.googleapis.com/css?family=Roboto:400,300,300italic,400italic,700,700italic);\n",
        "\n",
        "    div.cell{\n",
        "        font-family:'roboto','helvetica','sans';\n",
        "        color:#444;\n",
        "        width:800px;\n",
        "        margin-left:16% !important;\n",
        "        margin-right:auto;\n",
        "    }\n",
        "\n",
        "    div.text_cell_render{\n",
        "        font-family: 'roboto','helvetica','sans';\n",
        "        line-height: 145%;\n",
        "        font-size: 120%;\n",
        "        color:#444;\n",
        "        width:800px;\n",
        "        margin-left:auto;\n",
        "        margin-right:auto;\n",
        "    }\n",
        "    .CodeMirror{\n",
        "            font-family: \"Menlo\", source-code-pro,Consolas, monospace;\n",
        "    }\n",
        "    .prompt{\n",
        "        display: None;\n",
        "    }    \n",
        "    .warning{\n",
        "        color: rgb( 240, 20, 20 )\n",
        "        }  \n",
        "</style>\n",
        "<script>\n",
        "    MathJax.Hub.Config({\n",
        "                        TeX: {\n",
        "                           extensions: [\"AMSmath.js\"]\n",
        "                           },\n",
        "                tex2jax: {\n",
        "                    inlineMath: [ ['$','$'], [\"\\\\(\",\"\\\\)\"] ],\n",
        "                    displayMath: [ ['$$','$$'], [\"\\\\[\",\"\\\\]\"] ]\n",
        "                },\n",
        "                displayAlign: 'center', // Change this to 'center' to center equations.\n",
        "                \"HTML-CSS\": {\n",
        "                    styles: {'.MathJax_Display': {\"margin\": 4}}\n",
        "                }\n",
        "        });\n",
        "</script>"
       ],
       "metadata": {},
       "output_type": "pyout",
       "prompt_number": 81,
       "text": [
        "<IPython.core.display.HTML at 0x11336a2d0>"
       ]
      }
     ],
     "prompt_number": 81
    }
   ],
   "metadata": {}
  }
 ]
}